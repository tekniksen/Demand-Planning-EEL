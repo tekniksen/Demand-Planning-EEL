{
 "cells": [
  {
   "cell_type": "code",
   "execution_count": 17,
   "metadata": {},
   "outputs": [],
   "source": [
    "from rag_generatorAnswer import AnswerGenerator\n"
   ]
  },
  {
   "cell_type": "code",
   "execution_count": 18,
   "metadata": {},
   "outputs": [
    {
     "name": "stderr",
     "output_type": "stream",
     "text": [
      "Device set to use mps:0\n",
      "Add of existing embedding ID: ASolidGrowthOutlookFor2025.pdf\n",
      "Add of existing embedding ID: forecast_0\n",
      "Add of existing embedding ID: forecast_1\n",
      "Add of existing embedding ID: forecast_2\n",
      "Add of existing embedding ID: forecast_3\n",
      "Add of existing embedding ID: forecast_4\n",
      "Add of existing embedding ID: forecast_5\n",
      "Add of existing embedding ID: forecast_6\n",
      "Add of existing embedding ID: forecast_7\n",
      "Add of existing embedding ID: forecast_8\n",
      "Add of existing embedding ID: forecast_9\n",
      "Add of existing embedding ID: forecast_10\n",
      "Add of existing embedding ID: forecast_11\n",
      "Add of existing embedding ID: forecast_12\n",
      "Add of existing embedding ID: forecast_13\n",
      "Add of existing embedding ID: forecast_14\n",
      "Add of existing embedding ID: forecast_15\n",
      "Add of existing embedding ID: forecast_16\n",
      "Add of existing embedding ID: forecast_17\n",
      "Add of existing embedding ID: forecast_18\n",
      "Add of existing embedding ID: forecast_19\n",
      "Add of existing embedding ID: forecast_20\n",
      "Add of existing embedding ID: forecast_21\n",
      "Add of existing embedding ID: forecast_22\n",
      "Add of existing embedding ID: forecast_23\n",
      "Add of existing embedding ID: forecast_24\n",
      "Add of existing embedding ID: forecast_25\n",
      "Add of existing embedding ID: forecast_26\n",
      "Add of existing embedding ID: forecast_27\n",
      "Add of existing embedding ID: forecast_28\n",
      "Add of existing embedding ID: forecast_29\n",
      "Add of existing embedding ID: forecast_30\n",
      "Add of existing embedding ID: forecast_31\n",
      "Add of existing embedding ID: forecast_32\n",
      "Add of existing embedding ID: forecast_33\n",
      "Add of existing embedding ID: forecast_34\n",
      "Add of existing embedding ID: forecast_35\n",
      "Add of existing embedding ID: ASolidGrowthOutlookFor2025.pdf\n",
      "Add of existing embedding ID: forecast_0\n",
      "Add of existing embedding ID: forecast_1\n",
      "Add of existing embedding ID: forecast_2\n",
      "Add of existing embedding ID: forecast_3\n",
      "Add of existing embedding ID: forecast_4\n",
      "Add of existing embedding ID: forecast_5\n",
      "Add of existing embedding ID: forecast_6\n",
      "Add of existing embedding ID: forecast_7\n",
      "Add of existing embedding ID: forecast_8\n",
      "Add of existing embedding ID: forecast_9\n",
      "Add of existing embedding ID: forecast_10\n",
      "Add of existing embedding ID: forecast_11\n",
      "Add of existing embedding ID: forecast_12\n",
      "Add of existing embedding ID: forecast_13\n",
      "Add of existing embedding ID: forecast_14\n",
      "Add of existing embedding ID: forecast_15\n",
      "Add of existing embedding ID: forecast_16\n",
      "Add of existing embedding ID: forecast_17\n",
      "Add of existing embedding ID: forecast_18\n",
      "Add of existing embedding ID: forecast_19\n",
      "Add of existing embedding ID: forecast_20\n",
      "Add of existing embedding ID: forecast_21\n",
      "Add of existing embedding ID: forecast_22\n",
      "Add of existing embedding ID: forecast_23\n",
      "Add of existing embedding ID: forecast_24\n",
      "Add of existing embedding ID: forecast_25\n",
      "Add of existing embedding ID: forecast_26\n",
      "Add of existing embedding ID: forecast_27\n",
      "Add of existing embedding ID: forecast_28\n",
      "Add of existing embedding ID: forecast_29\n",
      "Add of existing embedding ID: forecast_30\n",
      "Add of existing embedding ID: forecast_31\n",
      "Add of existing embedding ID: forecast_32\n",
      "Add of existing embedding ID: forecast_33\n",
      "Add of existing embedding ID: forecast_34\n",
      "Add of existing embedding ID: forecast_35\n",
      "Add of existing embedding ID: forecast_0\n",
      "Add of existing embedding ID: forecast_1\n",
      "Add of existing embedding ID: forecast_2\n",
      "Add of existing embedding ID: forecast_3\n",
      "Add of existing embedding ID: forecast_4\n",
      "Add of existing embedding ID: forecast_5\n",
      "Add of existing embedding ID: forecast_6\n",
      "Add of existing embedding ID: forecast_7\n",
      "Add of existing embedding ID: forecast_8\n",
      "Add of existing embedding ID: forecast_9\n",
      "Add of existing embedding ID: forecast_10\n",
      "Add of existing embedding ID: forecast_11\n",
      "Add of existing embedding ID: forecast_12\n",
      "Add of existing embedding ID: forecast_13\n",
      "Add of existing embedding ID: forecast_14\n",
      "Add of existing embedding ID: forecast_15\n",
      "Add of existing embedding ID: forecast_16\n",
      "Add of existing embedding ID: forecast_17\n",
      "Add of existing embedding ID: forecast_18\n",
      "Add of existing embedding ID: forecast_19\n",
      "Add of existing embedding ID: forecast_20\n",
      "Add of existing embedding ID: forecast_21\n",
      "Add of existing embedding ID: forecast_22\n",
      "Add of existing embedding ID: forecast_23\n",
      "Add of existing embedding ID: forecast_24\n",
      "Add of existing embedding ID: forecast_25\n",
      "Add of existing embedding ID: forecast_26\n",
      "Add of existing embedding ID: forecast_27\n",
      "Add of existing embedding ID: forecast_28\n",
      "Add of existing embedding ID: forecast_29\n",
      "Add of existing embedding ID: forecast_30\n",
      "Add of existing embedding ID: forecast_31\n",
      "Add of existing embedding ID: forecast_32\n",
      "Add of existing embedding ID: forecast_33\n",
      "Add of existing embedding ID: forecast_34\n",
      "Add of existing embedding ID: forecast_35\n"
     ]
    },
    {
     "data": {
      "text/plain": [
       "'1400.827420250103 units'"
      ]
     },
     "execution_count": 18,
     "metadata": {},
     "output_type": "execute_result"
    }
   ],
   "source": [
    "reply = AnswerGenerator(\"What is the Forecast for Indonesia on 2025-09-01?\")\n",
    "reply.answer_query()"
   ]
  },
  {
   "cell_type": "code",
   "execution_count": null,
   "metadata": {},
   "outputs": [],
   "source": []
  }
 ],
 "metadata": {
  "kernelspec": {
   "display_name": "dpeelenv",
   "language": "python",
   "name": "python3"
  },
  "language_info": {
   "codemirror_mode": {
    "name": "ipython",
    "version": 3
   },
   "file_extension": ".py",
   "mimetype": "text/x-python",
   "name": "python",
   "nbconvert_exporter": "python",
   "pygments_lexer": "ipython3",
   "version": "3.9.6"
  }
 },
 "nbformat": 4,
 "nbformat_minor": 2
}
